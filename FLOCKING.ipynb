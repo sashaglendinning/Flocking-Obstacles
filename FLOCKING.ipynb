{
  "cells": [
    {
      "cell_type": "code",
      "execution_count": 1,
      "id": "50511818",
      "metadata": {
        "id": "50511818"
      },
      "outputs": [],
      "source": [
        "import matplotlib.pyplot as plt\n",
        "import numpy as np\n",
        "from IPython.display import display, clear_output"
      ]
    },
    {
      "cell_type": "code",
      "execution_count": 2,
      "id": "cad6ab5c",
      "metadata": {
        "id": "cad6ab5c"
      },
      "outputs": [],
      "source": [
        "v0           = 300    # velocity\n",
        "\n",
        "# center of mass:\n",
        "lambda_c = .01# 0.5\n",
        "\n",
        "# Avoid neighbors\n",
        "lambda_a= 2.5 # .3\n",
        "\n",
        "# Avoid obstacles\n",
        "lambda_a_obstacle = 1\n",
        "\n",
        "# Match velocity\n",
        "lambda_m = 3 # 0.5\n",
        "\n",
        "# Radius: neighbor collisions\n",
        "r_nc = .4     # 10\n",
        "\n",
        "# Radius: obstacles\n",
        "r_o = 150\n",
        "\n",
        "# Radius: match vel / center of mass\n",
        "R = 15         # 5*140\n",
        "\n",
        "eta          = 0.5      # random fluctuation in angle (in radians)\n",
        "W             = 5000      # width of box\n",
        "H            = 4000        #Height of box\n",
        "Rsq          = R**2     # square of the interaction radius\n",
        "dt           = 0.2      # time step\n",
        "Nt           = 200       # number of time steps\n",
        "N            = 400     # number of birds\n",
        "M = 10 # no of obstacles"
      ]
    },
    {
      "cell_type": "code",
      "execution_count": 3,
      "id": "39755206",
      "metadata": {
        "id": "39755206"
      },
      "outputs": [],
      "source": [
        "def initialize_birds(N,W, H):\n",
        "    '''\n",
        "    Set initial positions, direction, and velocities\n",
        "    '''\n",
        "    # bird positions\n",
        "\n",
        "    y = np.random.rand(N)*H/8 + 7*H/16\n",
        "    x = np.ones_like(y)*1\n",
        "\n",
        "    # bird velocities\n",
        "    theta =  0 * np.random.rand(N)\n",
        "    vx = v0 * np.cos(theta)\n",
        "    vy = v0 * np.sin(theta)\n",
        "\n",
        "    return x, y, vx, vy, theta"
      ]
    },
    {
      "cell_type": "code",
      "execution_count": 4,
      "id": "8f7a72f6",
      "metadata": {
        "id": "8f7a72f6"
      },
      "outputs": [],
      "source": [
        "def initialize_obstacles(M,W, H):\n",
        "    x = np.random.rand(M)*W\n",
        "    y = np.random.rand(M)*H\n",
        "\n",
        "    return x,y"
      ]
    },
    {
      "cell_type": "code",
      "execution_count": 5,
      "id": "b6c991ca",
      "metadata": {
        "id": "b6c991ca"
      },
      "outputs": [],
      "source": [
        "x_o, y_o = initialize_obstacles(M,W,H)"
      ]
    },
    {
      "cell_type": "code",
      "execution_count": 6,
      "id": "da1dce54",
      "metadata": {
        "id": "da1dce54"
      },
      "outputs": [],
      "source": [
        "def perscribe_obstacles(M,W,H):\n",
        "\n",
        "    x_pos = np.hstack((np.linspace(20,W,int(M/2)),np.linspace(20,W,int(M/2))))\n",
        "    y_pos = np.hstack((np.ones(int(M/2))*H/3, np.ones(int(M/2))*2*H/3))\n",
        "\n",
        "    x = np.hstack((np.hstack((x_pos,x_pos-1)), np.hstack((x_pos, x_pos))))\n",
        "    y = np.hstack((np.hstack((y_pos, y_pos)), np.hstack((y_pos+1, y_pos-1))))\n",
        "\n",
        "    return x,y"
      ]
    },
    {
      "cell_type": "code",
      "execution_count": 7,
      "id": "a498ba7b",
      "metadata": {
        "id": "a498ba7b"
      },
      "outputs": [],
      "source": [
        "x_o, y_o = perscribe_obstacles(10,W,H)"
      ]
    },
    {
      "cell_type": "code",
      "execution_count": 8,
      "id": "0fd67b97",
      "metadata": {
        "id": "0fd67b97"
      },
      "outputs": [],
      "source": [
        "def initialize_obstacles_grid(M, W, H):\n",
        "    x_obs=[]\n",
        "    y_obs=[]\n",
        "\n",
        "    for i in range(M):\n",
        "        for j in range(M):\n",
        "            x_obs.append(350*i-(M-1)*350/2)\n",
        "            y_obs.append(350*j-(M-1)*350/2)\n",
        "\n",
        "    x_obs = np.array(x_obs)+W/2\n",
        "    y_obs=np.array(y_obs) + H/2\n",
        "\n",
        "    return x_obs, y_obs"
      ]
    },
    {
      "cell_type": "code",
      "execution_count": 9,
      "id": "a91f3cd3",
      "metadata": {
        "id": "a91f3cd3"
      },
      "outputs": [],
      "source": [
        "x_o, y_o = initialize_obstacles_grid(M, W, H)"
      ]
    },
    {
      "cell_type": "code",
      "execution_count": 10,
      "id": "6e6986cb",
      "metadata": {
        "id": "6e6986cb"
      },
      "outputs": [],
      "source": [
        "def initialize_obstacles_triangle(M,W,H):\n",
        "    x_obs = []\n",
        "    y_obs = []\n",
        "\n",
        "    for i in range(M+1):\n",
        "        for j in range(i):\n",
        "            x_obs.append(350*(np.sqrt(3)/2)*i)\n",
        "            y_obs.append(350*(j - i/2 + 1/2))\n",
        "\n",
        "    x_obs = np.array(x_obs) - 350 * M * np.sqrt(3) / 4 + W / 2\n",
        "    y_obs = np.array(y_obs) + H / 2\n",
        "\n",
        "    return x_obs, y_obs"
      ]
    },
    {
      "cell_type": "code",
      "source": [
        "def initialize_obstacles_diamond(M, W, H):\n",
        "    x_obs = []\n",
        "    y_obs = []\n",
        "\n",
        "    for i in range(2*M - 1):\n",
        "        for j in range(i):\n",
        "            x_obs.append(350*(np.sqrt(3)/2)*i)\n",
        "            y_obs.append(350*(j - i/2 + 1/2))\n",
        "\n",
        "    x_obs = np.array(x_obs) - 350 * M * np.sqrt(3) / 4 + W / 2\n",
        "    y_obs = np.array(y_obs) + H / 2\n",
        "\n",
        "    return x_obs, y_obs"
      ],
      "metadata": {
        "id": "VvOU-mzaUHUx"
      },
      "id": "VvOU-mzaUHUx",
      "execution_count": 11,
      "outputs": []
    },
    {
      "cell_type": "code",
      "execution_count": 12,
      "id": "f4768e12",
      "metadata": {
        "id": "f4768e12"
      },
      "outputs": [],
      "source": [
        "x_o, y_o = initialize_obstacles_triangle(M,W,H)\n",
        "x_o, y_o = initialize_obstacles_grid(M, W, H)"
      ]
    },
    {
      "cell_type": "code",
      "execution_count": 13,
      "id": "676347c1",
      "metadata": {
        "id": "676347c1"
      },
      "outputs": [],
      "source": [
        "def dead_bird(x,y,x_o, y_o):\n",
        "\n",
        "    k = 0\n",
        "    for bird in range(N):\n",
        "        croppers = (x_o-x[bird])**2+(y_o-y[bird])**2 < 1\n",
        "        k += sum(croppers)\n",
        "\n",
        "    return k"
      ]
    },
    {
      "cell_type": "code",
      "execution_count": 14,
      "id": "f8c1152f",
      "metadata": {
        "id": "f8c1152f"
      },
      "outputs": [],
      "source": [
        "def apply_boundary_conditions(x,y,W, H):\n",
        "    '''\n",
        "    Apply periodic boundary conditions\n",
        "    '''\n",
        "    #x = x % W\n",
        "    #y = y % H\n",
        "    return x, y"
      ]
    },
    {
      "cell_type": "code",
      "execution_count": 15,
      "id": "a200ec2e",
      "metadata": {
        "id": "a200ec2e"
      },
      "outputs": [],
      "source": [
        "def update_positions(x, y,xv, vy, dt, W, H):\n",
        "    '''\n",
        "    Update the positions moving dt in the direction of the velocity\n",
        "    and applying the boundary conditions\n",
        "    '''\n",
        "\n",
        "    # update positions\n",
        "    x += vx*dt\n",
        "    y += vy*dt\n",
        "\n",
        "    # apply boundary conditions\n",
        "    x, y = apply_boundary_conditions(x,y,W,H)\n",
        "    return x, y"
      ]
    },
    {
      "cell_type": "code",
      "execution_count": 16,
      "id": "58d4c0d1",
      "metadata": {
        "id": "58d4c0d1"
      },
      "outputs": [],
      "source": [
        "def COM(x,y):\n",
        "    xc = 1/N*sum(x)\n",
        "    yc = 1/N*sum(y)\n",
        "\n",
        "    return xc, yc"
      ]
    },
    {
      "cell_type": "code",
      "execution_count": 17,
      "id": "a2c38b0c",
      "metadata": {
        "id": "a2c38b0c"
      },
      "outputs": [],
      "source": [
        "def variance(x,y):\n",
        "    xc = 1/N*sum(x)\n",
        "    yc = 1/N*sum(y)\n",
        "\n",
        "    x_boundary = x.copy()\n",
        "    x_boundary[x < W / 2] =  x[x < W / 2] + W\n",
        "    x_boundary[x >= W / 2] = x[x >= W / 2] - W\n",
        "\n",
        "    y_boundary = y.copy()\n",
        "    y_boundary[y < H / 2] = y[y < H / 2] + H\n",
        "    y_boundary[y >= H / 2] = y[y >= H / 2] - H\n",
        "\n",
        "    #distance1 =  np.sqrt(((x_boundary - xc)**2 + (y_boundary-yc)**2))\n",
        "    distance2 = np.sqrt(((x - xc)**2 + (y-yc)**2))\n",
        "\n",
        "    #distance=np.zeros_like(x)\n",
        "    for bird in range(N):\n",
        "        if x[bird]>W:\n",
        "            np.delete(distance2, bird)\n",
        "        if y[bird]<0:\n",
        "            np.delete(distance2,bird)\n",
        "\n",
        "    maximum = max(distance2)\n",
        "\n",
        "    return maximum"
      ]
    },
    {
      "cell_type": "code",
      "execution_count": 18,
      "id": "f5689c45",
      "metadata": {
        "id": "f5689c45"
      },
      "outputs": [],
      "source": [
        "def centre_of_mass(x, x_boundary, y, y_boundary, lambda_c, R):\n",
        "    # define neighbours birds can see\n",
        "\n",
        "    vx_c=np.zeros_like(x)\n",
        "    vy_c=np.zeros_like(y)\n",
        "\n",
        "    for bird in range(N):\n",
        "        neighbors = ((x-x[bird])**2+(y-y[bird])**2) < R**2 # find neighbours x_j within R\n",
        "        boundary_neighbors = ((x_boundary - x[bird])**2 + (y_boundary-y[bird])**2) < R**2\n",
        "\n",
        "\n",
        "        Ni = sum(neighbors) + sum(boundary_neighbors)\n",
        "        sumx= np.sum(x[neighbors]) + np.sum(x[boundary_neighbors])\n",
        "        sumy= np.sum(y[neighbors]) + np.sum(y[boundary_neighbors])\n",
        "\n",
        "        vx_c[bird] = lambda_c*(sumx/Ni-x[bird])\n",
        "        vy_c[bird] = lambda_c*(sumy/Ni-y[bird])\n",
        "\n",
        "    return vx_c, vy_c"
      ]
    },
    {
      "cell_type": "code",
      "execution_count": 19,
      "id": "c684596e",
      "metadata": {
        "id": "c684596e"
      },
      "outputs": [],
      "source": [
        "def avoid_collisions_birds(x, x_boundary, y, y_boundary, lambda_a, r_nc):\n",
        "    # define birds within minimum distance\n",
        "\n",
        "    vx_a=np.zeros_like(x)\n",
        "    vy_a=np.zeros_like(x)\n",
        "\n",
        "    for bird in range(N):\n",
        "        neighbors = ((x-x[bird])**2+(y-y[bird])**2) < r_nc**2 # find neighbours x_j within r_n\n",
        "        boundary_neighbors = ((x_boundary - x[bird])**2 + (y_boundary - y[bird])**2) <  r_nc**2\n",
        "\n",
        "\n",
        "        vx_a[bird] = lambda_a*(np.sum(x[bird]-x[neighbors]) + np.sum(x[bird] - x_boundary[boundary_neighbors])) # -np.sum(x[boundary_neighbors]))\n",
        "        vy_a[bird] = lambda_a*(np.sum(y[bird]-y[neighbors]) + np.sum(y[bird] - y_boundary[boundary_neighbors]))\n",
        "\n",
        "    return vx_a, vy_a"
      ]
    },
    {
      "cell_type": "code",
      "execution_count": 20,
      "id": "13044c99",
      "metadata": {
        "id": "13044c99"
      },
      "outputs": [],
      "source": [
        "def avoid_collisions_obstacle(x, y, x_o, y_o, lambda_a_obstacle, r_o):\n",
        "\n",
        "    vx_a=np.zeros_like(x)\n",
        "    vy_a=np.zeros_like(x)\n",
        "\n",
        "    for birds in range(N):\n",
        "        collisions = ((x_o-x[birds])**2+(y_o-y[birds])**2) < r_o**2 # find obstacles x_j within r_o\n",
        "\n",
        "\n",
        "        vx_a[birds] = lambda_a_obstacle*(np.sum(x[birds]-x_o[collisions])) # -np.sum(x_o[boundary_collision]))\n",
        "        vy_a[birds] = lambda_a_obstacle*(np.sum(y[birds]-y_o[collisions])) # -np.sum(y_o[boundary_collision]))\n",
        "\n",
        "\n",
        "    return vx_a, vy_a"
      ]
    },
    {
      "cell_type": "code",
      "execution_count": 21,
      "id": "0f362e89",
      "metadata": {
        "id": "0f362e89"
      },
      "outputs": [],
      "source": [
        "def match_velocities(x, x_boundary, y, y_boundary, vx, vy, lambda_m, R):\n",
        "\n",
        "    vx_m=np.zeros_like(x)\n",
        "    vy_m=np.zeros_like(x)\n",
        "\n",
        "    for bird in range(N):\n",
        "        neighbors = (x-x[bird])**2+(y-y[bird])**2 < R**2 # find neighbours x_j within R\n",
        "        boundary_neighbors = (x_boundary - x[bird])**2 + (y_boundary - y[bird])**2 < R**2\n",
        "\n",
        "\n",
        "        Ni = sum(neighbors) + sum(boundary_neighbors)  # + sum(boundary_neighbors)\n",
        "\n",
        "        sumx= np.sum(vx[neighbors]) + np.sum(vx[boundary_neighbors])\n",
        "        sumy= np.sum(vy[neighbors]) + np.sum(vy[boundary_neighbors])\n",
        "\n",
        "        vx_m[bird] = lambda_m*(sumx / Ni - vx[bird])\n",
        "        vy_m[bird] = lambda_m*(sumy / Ni - vy[bird])\n",
        "\n",
        "    return vx_m, vy_m"
      ]
    },
    {
      "cell_type": "code",
      "execution_count": 22,
      "id": "7b7b21f4",
      "metadata": {
        "id": "7b7b21f4"
      },
      "outputs": [],
      "source": [
        "def update_velocities(vx,vy,x,y):\n",
        "    '''\n",
        "    Update the velocities given theta\n",
        "    '''\n",
        "\n",
        "    x_boundary = x.copy()\n",
        "    x_boundary[x < W / 2] =  x[x < W / 2] + W\n",
        "    x_boundary[x >= W / 2] = x[x >= W / 2] - W\n",
        "\n",
        "    y_boundary = y.copy()\n",
        "    y_boundary[y < H / 2] = y[y < H / 2] + H\n",
        "    y_boundary[y >= H / 2] = y[y >= H / 2] - H\n",
        "\n",
        "    vx_c, vy_c = centre_of_mass(x, x_boundary, y, y_boundary, lambda_c, R)\n",
        "    vx_m, vy_m = match_velocities(x, x_boundary, y, y_boundary, vx, vy, lambda_m, R)\n",
        "    vx_ab, vy_ab = avoid_collisions_birds(x, x_boundary, y, y_boundary, lambda_a, r_nc)\n",
        "\n",
        "    vx_ao, vy_ao = avoid_collisions_obstacle(x,y,x_o, y_o, lambda_a_obstacle, r_o)\n",
        "\n",
        "    vx = vx + vx_c + vx_m + vx_ab + vx_ao + 70              #   imposing a bias for the birds\n",
        "    vy = vy + vy_c + vy_m + vy_ab + vy_ao\n",
        "\n",
        "    return vx, vy"
      ]
    },
    {
      "cell_type": "code",
      "execution_count": 23,
      "id": "a0f03a82",
      "metadata": {
        "id": "a0f03a82"
      },
      "outputs": [],
      "source": [
        "def limit_speed(vx, vy, v0):\n",
        "\n",
        "    vx, vy = update_velocities(vx, vy, x, y)\n",
        "\n",
        "    vx_next = np.zeros_like(x)\n",
        "    vy_next = np.zeros_like(x)\n",
        "\n",
        "    for i in range(N):\n",
        "        vx_next[i] = min(1, v0/np.sqrt(vx[i]**2+vy[i]**2))*vx[i]\n",
        "        vy_next[i] = min(1, v0/np.sqrt(vx[i]**2+vy[i]**2))*vy[i]\n",
        "\n",
        "    # birds travel north to south, dominant wind is from the west, additional component in +ve y direction 16.6km/h\n",
        "    # in m/s this is 4.5 m/s assume 5 timesteps is a second\n",
        "    vy_next +=4.5/20\n",
        "\n",
        "\n",
        "    return vx_next, vy_next"
      ]
    },
    {
      "cell_type": "code",
      "execution_count": 24,
      "id": "476b13ff",
      "metadata": {
        "id": "476b13ff"
      },
      "outputs": [],
      "source": [
        "def step(x,y,vx,vy,dt):\n",
        "    '''\n",
        "    Compute a step in the dynamics:\n",
        "    - update the positions\n",
        "    - compute the new velocities\n",
        "    '''\n",
        "\n",
        "\n",
        "    x,y = update_positions(x, y, vx, vy, dt, W, H)\n",
        "    vx,vy = limit_speed(vx,vy,v0)\n",
        "    return x, y, vx, vy"
      ]
    },
    {
      "cell_type": "code",
      "execution_count": 25,
      "id": "6d5f9ecd",
      "metadata": {
        "id": "6d5f9ecd"
      },
      "outputs": [],
      "source": [
        "def update_quiver(q,x,y,vx,vy):\n",
        "    '''\n",
        "    Update a quiver with new position and velocity information\n",
        "    This is only used for plotting\n",
        "    '''\n",
        "    q.set_offsets(np.column_stack([x,y]))\n",
        "    q.set_UVC(vx,vy)\n",
        "    return q"
      ]
    },
    {
      "cell_type": "code",
      "execution_count": 26,
      "id": "f2728470",
      "metadata": {
        "colab": {
          "base_uri": "https://localhost:8080/",
          "height": 1000
        },
        "id": "f2728470",
        "outputId": "c4aef8b7-eb74-4525-ff33-53cbb30ec4ea"
      },
      "outputs": [
        {
          "output_type": "display_data",
          "data": {
            "text/plain": [
              "<Figure size 1000x1000 with 1 Axes>"
            ],
            "image/png": "[encoded data removed]"
          },
          "metadata": {}
        },
        {
          "output_type": "error",
          "ename": "KeyboardInterrupt",
          "evalue": "ignored",
          "traceback": [
            "\u001b[0;31m---------------------------------------------------------------------------\u001b[0m",
            "\u001b[0;31mKeyboardInterrupt\u001b[0m                         Traceback (most recent call last)",
            "\u001b[0;32m<ipython-input-26-c7ed5a100606>\u001b[0m in \u001b[0;36m<cell line: 21>\u001b[0;34m()\u001b[0m\n\u001b[1;32m     21\u001b[0m \u001b[0;32mfor\u001b[0m \u001b[0miT\u001b[0m \u001b[0;32min\u001b[0m \u001b[0mrange\u001b[0m\u001b[0;34m(\u001b[0m\u001b[0mNt\u001b[0m\u001b[0;34m)\u001b[0m\u001b[0;34m:\u001b[0m\u001b[0;34m\u001b[0m\u001b[0;34m\u001b[0m\u001b[0m\n\u001b[1;32m     22\u001b[0m     \u001b[0mk\u001b[0m \u001b[0;34m+=\u001b[0m \u001b[0mdead_bird\u001b[0m\u001b[0;34m(\u001b[0m\u001b[0mx\u001b[0m\u001b[0;34m,\u001b[0m\u001b[0my\u001b[0m\u001b[0;34m,\u001b[0m\u001b[0mx_o\u001b[0m\u001b[0;34m,\u001b[0m\u001b[0my_o\u001b[0m\u001b[0;34m)\u001b[0m\u001b[0;34m\u001b[0m\u001b[0;34m\u001b[0m\u001b[0m\n\u001b[0;32m---> 23\u001b[0;31m     \u001b[0mx\u001b[0m\u001b[0;34m,\u001b[0m\u001b[0my\u001b[0m\u001b[0;34m,\u001b[0m\u001b[0mvx\u001b[0m\u001b[0;34m,\u001b[0m\u001b[0mvy\u001b[0m \u001b[0;34m=\u001b[0m \u001b[0mstep\u001b[0m\u001b[0;34m(\u001b[0m\u001b[0mx\u001b[0m\u001b[0;34m,\u001b[0m\u001b[0my\u001b[0m\u001b[0;34m,\u001b[0m\u001b[0mvx\u001b[0m\u001b[0;34m,\u001b[0m\u001b[0mvy\u001b[0m\u001b[0;34m,\u001b[0m\u001b[0mdt\u001b[0m\u001b[0;34m)\u001b[0m\u001b[0;34m\u001b[0m\u001b[0;34m\u001b[0m\u001b[0m\n\u001b[0m\u001b[1;32m     24\u001b[0m     \u001b[0mxc_list\u001b[0m\u001b[0;34m.\u001b[0m\u001b[0mappend\u001b[0m\u001b[0;34m(\u001b[0m\u001b[0mCOM\u001b[0m\u001b[0;34m(\u001b[0m\u001b[0mx\u001b[0m\u001b[0;34m,\u001b[0m\u001b[0my\u001b[0m\u001b[0;34m)\u001b[0m\u001b[0;34m[\u001b[0m\u001b[0;36m0\u001b[0m\u001b[0;34m]\u001b[0m\u001b[0;34m)\u001b[0m\u001b[0;34m\u001b[0m\u001b[0;34m\u001b[0m\u001b[0m\n\u001b[1;32m     25\u001b[0m     \u001b[0myc_list\u001b[0m\u001b[0;34m.\u001b[0m\u001b[0mappend\u001b[0m\u001b[0;34m(\u001b[0m\u001b[0mCOM\u001b[0m\u001b[0;34m(\u001b[0m\u001b[0mx\u001b[0m\u001b[0;34m,\u001b[0m\u001b[0my\u001b[0m\u001b[0;34m)\u001b[0m\u001b[0;34m[\u001b[0m\u001b[0;36m1\u001b[0m\u001b[0;34m]\u001b[0m\u001b[0;34m)\u001b[0m\u001b[0;34m\u001b[0m\u001b[0;34m\u001b[0m\u001b[0m\n",
            "\u001b[0;32m<ipython-input-24-a19ee4222ff4>\u001b[0m in \u001b[0;36mstep\u001b[0;34m(x, y, vx, vy, dt)\u001b[0m\n\u001b[1;32m      8\u001b[0m \u001b[0;34m\u001b[0m\u001b[0m\n\u001b[1;32m      9\u001b[0m     \u001b[0mx\u001b[0m\u001b[0;34m,\u001b[0m\u001b[0my\u001b[0m \u001b[0;34m=\u001b[0m \u001b[0mupdate_positions\u001b[0m\u001b[0;34m(\u001b[0m\u001b[0mx\u001b[0m\u001b[0;34m,\u001b[0m \u001b[0my\u001b[0m\u001b[0;34m,\u001b[0m \u001b[0mvx\u001b[0m\u001b[0;34m,\u001b[0m \u001b[0mvy\u001b[0m\u001b[0;34m,\u001b[0m \u001b[0mdt\u001b[0m\u001b[0;34m,\u001b[0m \u001b[0mW\u001b[0m\u001b[0;34m,\u001b[0m \u001b[0mH\u001b[0m\u001b[0;34m)\u001b[0m\u001b[0;34m\u001b[0m\u001b[0;34m\u001b[0m\u001b[0m\n\u001b[0;32m---> 10\u001b[0;31m     \u001b[0mvx\u001b[0m\u001b[0;34m,\u001b[0m\u001b[0mvy\u001b[0m \u001b[0;34m=\u001b[0m \u001b[0mlimit_speed\u001b[0m\u001b[0;34m(\u001b[0m\u001b[0mvx\u001b[0m\u001b[0;34m,\u001b[0m\u001b[0mvy\u001b[0m\u001b[0;34m,\u001b[0m\u001b[0mv0\u001b[0m\u001b[0;34m)\u001b[0m\u001b[0;34m\u001b[0m\u001b[0;34m\u001b[0m\u001b[0m\n\u001b[0m\u001b[1;32m     11\u001b[0m     \u001b[0;32mreturn\u001b[0m \u001b[0mx\u001b[0m\u001b[0;34m,\u001b[0m \u001b[0my\u001b[0m\u001b[0;34m,\u001b[0m \u001b[0mvx\u001b[0m\u001b[0;34m,\u001b[0m \u001b[0mvy\u001b[0m\u001b[0;34m\u001b[0m\u001b[0;34m\u001b[0m\u001b[0m\n",
            "\u001b[0;32m<ipython-input-23-192d7e5f0a07>\u001b[0m in \u001b[0;36mlimit_speed\u001b[0;34m(vx, vy, v0)\u001b[0m\n\u001b[1;32m      1\u001b[0m \u001b[0;32mdef\u001b[0m \u001b[0mlimit_speed\u001b[0m\u001b[0;34m(\u001b[0m\u001b[0mvx\u001b[0m\u001b[0;34m,\u001b[0m \u001b[0mvy\u001b[0m\u001b[0;34m,\u001b[0m \u001b[0mv0\u001b[0m\u001b[0;34m)\u001b[0m\u001b[0;34m:\u001b[0m\u001b[0;34m\u001b[0m\u001b[0;34m\u001b[0m\u001b[0m\n\u001b[1;32m      2\u001b[0m \u001b[0;34m\u001b[0m\u001b[0m\n\u001b[0;32m----> 3\u001b[0;31m     \u001b[0mvx\u001b[0m\u001b[0;34m,\u001b[0m \u001b[0mvy\u001b[0m \u001b[0;34m=\u001b[0m \u001b[0mupdate_velocities\u001b[0m\u001b[0;34m(\u001b[0m\u001b[0mvx\u001b[0m\u001b[0;34m,\u001b[0m \u001b[0mvy\u001b[0m\u001b[0;34m,\u001b[0m \u001b[0mx\u001b[0m\u001b[0;34m,\u001b[0m \u001b[0my\u001b[0m\u001b[0;34m)\u001b[0m\u001b[0;34m\u001b[0m\u001b[0;34m\u001b[0m\u001b[0m\n\u001b[0m\u001b[1;32m      4\u001b[0m \u001b[0;34m\u001b[0m\u001b[0m\n\u001b[1;32m      5\u001b[0m     \u001b[0mvx_next\u001b[0m \u001b[0;34m=\u001b[0m \u001b[0mnp\u001b[0m\u001b[0;34m.\u001b[0m\u001b[0mzeros_like\u001b[0m\u001b[0;34m(\u001b[0m\u001b[0mx\u001b[0m\u001b[0;34m)\u001b[0m\u001b[0;34m\u001b[0m\u001b[0;34m\u001b[0m\u001b[0m\n",
            "\u001b[0;32m<ipython-input-22-fdfd8b85f43d>\u001b[0m in \u001b[0;36mupdate_velocities\u001b[0;34m(vx, vy, x, y)\u001b[0m\n\u001b[1;32m     13\u001b[0m \u001b[0;34m\u001b[0m\u001b[0m\n\u001b[1;32m     14\u001b[0m     \u001b[0mvx_c\u001b[0m\u001b[0;34m,\u001b[0m \u001b[0mvy_c\u001b[0m \u001b[0;34m=\u001b[0m \u001b[0mcentre_of_mass\u001b[0m\u001b[0;34m(\u001b[0m\u001b[0mx\u001b[0m\u001b[0;34m,\u001b[0m \u001b[0mx_boundary\u001b[0m\u001b[0;34m,\u001b[0m \u001b[0my\u001b[0m\u001b[0;34m,\u001b[0m \u001b[0my_boundary\u001b[0m\u001b[0;34m,\u001b[0m \u001b[0mlambda_c\u001b[0m\u001b[0;34m,\u001b[0m \u001b[0mR\u001b[0m\u001b[0;34m)\u001b[0m\u001b[0;34m\u001b[0m\u001b[0;34m\u001b[0m\u001b[0m\n\u001b[0;32m---> 15\u001b[0;31m     \u001b[0mvx_m\u001b[0m\u001b[0;34m,\u001b[0m \u001b[0mvy_m\u001b[0m \u001b[0;34m=\u001b[0m \u001b[0mmatch_velocities\u001b[0m\u001b[0;34m(\u001b[0m\u001b[0mx\u001b[0m\u001b[0;34m,\u001b[0m \u001b[0mx_boundary\u001b[0m\u001b[0;34m,\u001b[0m \u001b[0my\u001b[0m\u001b[0;34m,\u001b[0m \u001b[0my_boundary\u001b[0m\u001b[0;34m,\u001b[0m \u001b[0mvx\u001b[0m\u001b[0;34m,\u001b[0m \u001b[0mvy\u001b[0m\u001b[0;34m,\u001b[0m \u001b[0mlambda_m\u001b[0m\u001b[0;34m,\u001b[0m \u001b[0mR\u001b[0m\u001b[0;34m)\u001b[0m\u001b[0;34m\u001b[0m\u001b[0;34m\u001b[0m\u001b[0m\n\u001b[0m\u001b[1;32m     16\u001b[0m     \u001b[0mvx_ab\u001b[0m\u001b[0;34m,\u001b[0m \u001b[0mvy_ab\u001b[0m \u001b[0;34m=\u001b[0m \u001b[0mavoid_collisions_birds\u001b[0m\u001b[0;34m(\u001b[0m\u001b[0mx\u001b[0m\u001b[0;34m,\u001b[0m \u001b[0mx_boundary\u001b[0m\u001b[0;34m,\u001b[0m \u001b[0my\u001b[0m\u001b[0;34m,\u001b[0m \u001b[0my_boundary\u001b[0m\u001b[0;34m,\u001b[0m \u001b[0mlambda_a\u001b[0m\u001b[0;34m,\u001b[0m \u001b[0mr_nc\u001b[0m\u001b[0;34m)\u001b[0m\u001b[0;34m\u001b[0m\u001b[0;34m\u001b[0m\u001b[0m\n\u001b[1;32m     17\u001b[0m \u001b[0;34m\u001b[0m\u001b[0m\n",
            "\u001b[0;32m<ipython-input-21-48ce1d6b35cf>\u001b[0m in \u001b[0;36mmatch_velocities\u001b[0;34m(x, x_boundary, y, y_boundary, vx, vy, lambda_m, R)\u001b[0m\n\u001b[1;32m      9\u001b[0m \u001b[0;34m\u001b[0m\u001b[0m\n\u001b[1;32m     10\u001b[0m \u001b[0;34m\u001b[0m\u001b[0m\n\u001b[0;32m---> 11\u001b[0;31m         \u001b[0mNi\u001b[0m \u001b[0;34m=\u001b[0m \u001b[0msum\u001b[0m\u001b[0;34m(\u001b[0m\u001b[0mneighbors\u001b[0m\u001b[0;34m)\u001b[0m \u001b[0;34m+\u001b[0m \u001b[0msum\u001b[0m\u001b[0;34m(\u001b[0m\u001b[0mboundary_neighbors\u001b[0m\u001b[0;34m)\u001b[0m  \u001b[0;31m# + sum(boundary_neighbors)\u001b[0m\u001b[0;34m\u001b[0m\u001b[0;34m\u001b[0m\u001b[0m\n\u001b[0m\u001b[1;32m     12\u001b[0m \u001b[0;34m\u001b[0m\u001b[0m\n\u001b[1;32m     13\u001b[0m         \u001b[0msumx\u001b[0m\u001b[0;34m=\u001b[0m \u001b[0mnp\u001b[0m\u001b[0;34m.\u001b[0m\u001b[0msum\u001b[0m\u001b[0;34m(\u001b[0m\u001b[0mvx\u001b[0m\u001b[0;34m[\u001b[0m\u001b[0mneighbors\u001b[0m\u001b[0;34m]\u001b[0m\u001b[0;34m)\u001b[0m \u001b[0;34m+\u001b[0m \u001b[0mnp\u001b[0m\u001b[0;34m.\u001b[0m\u001b[0msum\u001b[0m\u001b[0;34m(\u001b[0m\u001b[0mvx\u001b[0m\u001b[0;34m[\u001b[0m\u001b[0mboundary_neighbors\u001b[0m\u001b[0;34m]\u001b[0m\u001b[0;34m)\u001b[0m\u001b[0;34m\u001b[0m\u001b[0;34m\u001b[0m\u001b[0m\n",
            "\u001b[0;31mKeyboardInterrupt\u001b[0m: "
          ]
        },
        {
          "output_type": "display_data",
          "data": {
            "text/plain": [
              "<Figure size 1000x1000 with 1 Axes>"
            ],
            "image/png": "[encoded data removed]"
          },
          "metadata": {}
        }
      ],
      "source": [
        "\n",
        "# set up a figure\n",
        "fig, ax = plt.subplots(figsize = (10,10))\n",
        "\n",
        "# get the initial configuration\n",
        "x, y, vx, vy, theta = initialize_birds(N,W,H)\n",
        "\n",
        "# do an initial plot and set up the axes\n",
        "q = plt.quiver(x,y,vx,vy)\n",
        "ax.set(xlim=(0, W), ylim=(0, H))\n",
        "ax.set_aspect('equal')\n",
        "ax.get_xaxis().set_visible(False)\n",
        "ax.get_yaxis().set_visible(False)\n",
        "\n",
        "k=0\n",
        "plt.scatter(x_o, y_o)\n",
        "xc, yc=COM(x,y)\n",
        "xc_list, yc_list = [xc], [yc]\n",
        "distance = [variance(x,y)/2]\n",
        "\n",
        "# do each step, updating the quiver and plotting the new one\n",
        "for iT in range(Nt):\n",
        "    k += dead_bird(x,y,x_o,y_o)\n",
        "    x,y,vx,vy = step(x,y,vx,vy,dt)\n",
        "    xc_list.append(COM(x,y)[0])\n",
        "    yc_list.append(COM(x,y)[1])\n",
        "    distance.append(variance(x,y)/2)\n",
        "    q = update_quiver(q,x,y,vx,vy)\n",
        "    clear_output(wait=True)\n",
        "    display(fig)\n",
        "    #plt.savefig('flock.pdf')"
      ]
    },
    {
      "cell_type": "code",
      "execution_count": 27,
      "id": "6c97b75e",
      "metadata": {
        "colab": {
          "base_uri": "https://localhost:8080/",
          "height": 430
        },
        "id": "6c97b75e",
        "outputId": "1ac831ea-ef41-4c16-8d4c-58a29b952793"
      },
      "outputs": [
        {
          "output_type": "display_data",
          "data": {
            "text/plain": [
              "<Figure size 640x480 with 1 Axes>"
            ],
            "image/png": "[encoded data removed]"
          },
          "metadata": {}
        }
      ],
      "source": [
        "\n",
        "plt.errorbar(xc_list,yc_list, distance)\n",
        "plt.plot(xc_list, yc_list)\n",
        "\n",
        "plt.show()"
      ]
    },
    {
      "cell_type": "code",
      "execution_count": 28,
      "id": "14dd6959",
      "metadata": {
        "colab": {
          "base_uri": "https://localhost:8080/"
        },
        "id": "14dd6959",
        "outputId": "ae03d39a-6d58-4959-f9aa-8d4f0e82cfba"
      },
      "outputs": [
        {
          "output_type": "stream",
          "name": "stdout",
          "text": [
            "The number of birds who died (got too close to the obstacles) is 0\n"
          ]
        }
      ],
      "source": [
        "print('The number of birds who died (got too close to the obstacles) is '+str(k))"
      ]
    }
  ],
  "metadata": {
    "colab": {
      "provenance": []
    },
    "kernelspec": {
      "display_name": "Python 3 (ipykernel)",
      "language": "python",
      "name": "python3"
    },
    "language_info": {
      "codemirror_mode": {
        "name": "ipython",
        "version": 3
      },
      "file_extension": ".py",
      "mimetype": "text/x-python",
      "name": "python",
      "nbconvert_exporter": "python",
      "pygments_lexer": "ipython3",
      "version": "3.11.3"
    }
  },
  "nbformat": 4,
  "nbformat_minor": 5
}