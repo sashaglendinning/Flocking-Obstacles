{
 "cells": [
  {
   "cell_type": "markdown",
   "id": "2ff26375",
   "metadata": {},
   "source": [
    "# Basic model with obstacles"
   ]
  },
  {
   "cell_type": "code",
   "execution_count": 1,
   "id": "e71b855b",
   "metadata": {},
   "outputs": [],
   "source": [
    "#define parameters\n",
    "\n",
    "v_max = 12 # but tends to be different for flocks and lone birds (maybe incorporate some random noise)\n",
    "lambda_c = 1\n",
    "lambda_a = 1\n",
    "lambda_m = 1\n",
    "R = 1 # sight range of bird\n",
    "Rsquare = 1**2\n",
    "r_n = 0.1 # min distance between birds\n",
    "r_o = 0.5 # min distance between bird and obstacle\n",
    "\n",
    "dt = 0.2      # time step\n",
    "Nt = 80       # number of time steps\n",
    "N = 1000     # number of birds\n",
    "\n",
    "L = 10       # size of box"
   ]
  },
  {
   "cell_type": "code",
   "execution_count": null,
   "id": "b5716c0a",
   "metadata": {},
   "outputs": [],
   "source": [
    "def centre_of_mass(x, y, lambda_c, R):\n",
    "    # define neighbours birds can see\n",
    "    for bird in range(N):\n",
    "        neighbors = (x-x[bird])**2+(y-y[bird])**2 < R**2 # find neighbours x_j within R\n",
    "    \n",
    "    N=neighbors.shape[0] # maybe 1, see what happens\n",
    "    \n",
    "    sumx=0\n",
    "    for bird in neighbors:\n",
    "        sumx +=x[bird]\n",
    "    \n",
    "    sumy=0\n",
    "    for bird in neighbors:\n",
    "        sumy += y[bird]\n",
    "    \n",
    "    vx = lambdac*(sumx/N-x)\n",
    "    vy = lambdac*(sumy/N-y)\n",
    "    \n",
    "    return vx_c, vy_c\n",
    "        "
   ]
  },
  {
   "cell_type": "code",
   "execution_count": null,
   "id": "dae8fe52",
   "metadata": {},
   "outputs": [],
   "source": [
    "def avoid_collisions_birds(x, y, lambda_a, r_n):\n",
    "    # define birds within minimum distance\n",
    "    for bird in range(N):\n",
    "        neighbors = (x-x[bird])**2+(y-y[bird])**2 < r_n**2 # find neighbours x_j within R\n",
    "    \n",
    "    "
   ]
  },
  {
   "cell_type": "code",
   "execution_count": null,
   "id": "bf521a4e",
   "metadata": {},
   "outputs": [],
   "source": [
    "def avoid_collisions_obstacle(x, y, lambda_a, r_o):\n",
    "    for obstacles:\n",
    "        collision = (x-x[obstacle])**2+(y-y[obstacle])**2 < r_o**2 # find neighbours x_j within R"
   ]
  },
  {
   "cell_type": "code",
   "execution_count": null,
   "id": "c3cae1c4",
   "metadata": {},
   "outputs": [],
   "source": [
    "def match_velocities(vx, vy, lambda_m, R):"
   ]
  },
  {
   "cell_type": "code",
   "execution_count": null,
   "id": "e52d10dc",
   "metadata": {},
   "outputs": [],
   "source": [
    "def update_velocities(vx, vy, vx_c, vy_c, vx_na, vy_na, vx_oba, vy_oba, vx_m, vy_m):\n",
    "    vx_next = vx + vx_c + vx_na + vx_oba + vx_m \n",
    "    vy_next = vy + vy_c + vy_na + vy_oba + vy_m\n",
    "    \n",
    "    return vx_next, vy_next"
   ]
  },
  {
   "cell_type": "code",
   "execution_count": null,
   "id": "fad6f5a5",
   "metadata": {},
   "outputs": [],
   "source": [
    "def limit_speed(vx, vy, v_max):\n",
    "    \n",
    "    vx_next = min(1, v_max/np.sqrt(vx**2+vy**2))*vx\n",
    "    vy_next = min(1, v_max/np.sqrt(vx**2+vy**2))*vy\n",
    "    \n",
    "    return vx_next, vy_next"
   ]
  }
 ],
 "metadata": {
  "kernelspec": {
   "display_name": "Python 3 (ipykernel)",
   "language": "python",
   "name": "python3"
  },
  "language_info": {
   "codemirror_mode": {
    "name": "ipython",
    "version": 3
   },
   "file_extension": ".py",
   "mimetype": "text/x-python",
   "name": "python",
   "nbconvert_exporter": "python",
   "pygments_lexer": "ipython3",
   "version": "3.11.3"
  }
 },
 "nbformat": 4,
 "nbformat_minor": 5
}
