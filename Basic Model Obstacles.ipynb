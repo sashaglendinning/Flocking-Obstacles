{
 "cells": [
  {
   "cell_type": "markdown",
   "id": "56a0a633",
   "metadata": {},
   "source": [
    "# Basic model with obstacles"
   ]
  },
  {
   "cell_type": "code",
   "execution_count": 18,
   "id": "58935a72",
   "metadata": {},
   "outputs": [],
   "source": [
    "import numpy as np\n",
    "import random\n",
    "import matplotlib.pyplot as plt\n",
    "from IPython.display import display, clear_output"
   ]
  },
  {
   "cell_type": "code",
   "execution_count": 13,
   "id": "73faf7d6",
   "metadata": {},
   "outputs": [],
   "source": [
    "#define parameters\n",
    "\n",
    "v_max = 12 # but tends to be different for flocks and lone birds (maybe incorporate some random noise)\n",
    "lambda_c = 1\n",
    "lambda_a = 1\n",
    "lambda_m = 1\n",
    "R = 1 # sight range of bird\n",
    "Rsquare = 1**2\n",
    "r_n = 0.1 # min distance between birds\n",
    "r_o = 0.5 # min distance between bird and obstacle\n",
    "\n",
    "dt = 0.2      # time step\n",
    "Nt = 80       # number of time steps\n",
    "N = 1000     # number of birds\n",
    "\n",
    "L = 10       # size of box"
   ]
  },
  {
   "cell_type": "markdown",
   "id": "cb6eff63",
   "metadata": {},
   "source": [
    " need some initialisation of objects, birds and grid."
   ]
  },
  {
   "cell_type": "code",
   "execution_count": 30,
   "id": "fc4667c2",
   "metadata": {},
   "outputs": [],
   "source": [
    "def init_environment(height, width, obstacle_density):\n",
    "    rand_grid = np.random.rand(height, width)\n",
    "    grid = np.zeros((height, width))\n",
    "    obstacles = rand_grid < obstacle_density\n",
    "    grid[obstacles] = 1\n",
    "    return grid, obstacles\n",
    "        \n"
   ]
  },
  {
   "cell_type": "code",
   "execution_count": 33,
   "id": "ad56cfc2",
   "metadata": {},
   "outputs": [
    {
     "data": {
      "image/png": "[encoded data removed]",
      "text/plain": [
       "<Figure size 640x480 with 1 Axes>"
      ]
     },
     "metadata": {},
     "output_type": "display_data"
    }
   ],
   "source": [
    "\n",
    "\n",
    "grid, obstacles = init_environment(30,100,0.05)\n",
    "\n",
    "fig, ax =plt.subplots()\n",
    "ax.imshow(grid, cmap='gray_r')\n",
    "plt.show()"
   ]
  },
  {
   "cell_type": "code",
   "execution_count": 37,
   "id": "89d731af",
   "metadata": {},
   "outputs": [],
   "source": [
    "def initialize_birds(N,L):\n",
    "    '''\n",
    "    Set initial positions, direction, and velocities \n",
    "    '''\n",
    "    # bird positions\n",
    "    x = np.random.rand(N,1)*L\n",
    "    y = np.random.rand(N,1)*L\n",
    "\n",
    "    # bird velocities\n",
    "    theta = 2 * np.pi * np.random.rand(N,1)\n",
    "    vx = v_max * np.cos(theta)\n",
    "    vy = v_max * np.sin(theta)\n",
    "\n",
    "    return x, y, vx, vy, theta"
   ]
  },
  {
   "cell_type": "code",
   "execution_count": 4,
   "id": "db634352",
   "metadata": {},
   "outputs": [],
   "source": [
    "def centre_of_mass(x, y, lambda_c, R):\n",
    "    # define neighbours birds can see\n",
    "    \n",
    "    vx_c=np.zeros(N)\n",
    "    vy_c=np.zeros(N)\n",
    "    for bird in range(N):\n",
    "        neighbors = (x-x[bird])**2+(y-y[bird])**2 < R**2 # find neighbours x_j within R\n",
    "        Ni=neighbors.shape[0] # maybe 1, see what happens\n",
    "        \n",
    "        vx_c=np.zeros(N)\n",
    "        vy_c=np.zeros(N)\n",
    "        sumx= np.sum(x[neighbours])\n",
    "        sumy= np.sum(y[neighbours])\n",
    "    \n",
    "        vx_c[bird] = lambda_c*(sumx/Ni-x[bird])\n",
    "        vy_c[bird] = lambda_c*(sumy/Ni-y[bird])\n",
    "    \n",
    "    return vx_c, vy_c\n",
    "        "
   ]
  },
  {
   "cell_type": "code",
   "execution_count": 9,
   "id": "a811abd1",
   "metadata": {},
   "outputs": [],
   "source": [
    "def avoid_collisions_birds(x, y, lambda_a, r_n):\n",
    "    # define birds within minimum distance\n",
    "    \n",
    "    vx_a=np.zeros(N)\n",
    "    vy_a=np.zeros(N)\n",
    "    for bird in range(N):\n",
    "        neighbors = (x-x[bird])**2+(y-y[bird])**2 < r_n**2 # find neighbours x_j within r_n\n",
    "        \n",
    "        vx_a[bird] = lambda_a*np.sum(x[bird]-x[neighbors])\n",
    "        vy_a[bird] = lambda_a*np.sum(y[bird]-y[neighbors])\n",
    "        \n",
    "    return vx_a, vy_a\n",
    "    \n",
    "    "
   ]
  },
  {
   "cell_type": "code",
   "execution_count": null,
   "id": "a070b3fa",
   "metadata": {},
   "outputs": [],
   "source": [
    "def avoid_collisions_obstacle(x, y, x_o, y_o, lambda_a, r_o):\n",
    "    \n",
    "    vx_a=np.zeros(N)\n",
    "    vy_a=np.zeros(N)\n",
    "    \n",
    "    for birds in range(N):\n",
    "        collision = (x_o-x[bird])**2+(y_o-y[bird])**2 < r_o**2 # find neighbours x_j within r_o\n",
    "        \n",
    "        vx_a[bird] = lambda_a*np.sum(x[bird]-x[collision])\n",
    "        vy_a[bird] = lambda_a*np.sum(y[bird]-y[collision])\n",
    "        \n",
    "    return vx_a, vy_a"
   ]
  },
  {
   "cell_type": "code",
   "execution_count": 10,
   "id": "832d675b",
   "metadata": {},
   "outputs": [],
   "source": [
    "def match_velocities(x, y, vx, vy, lambda_m, R):\n",
    "    \n",
    "    vx_m=np.zeros(N)\n",
    "    vy_m=np.zeros(N)\n",
    "    \n",
    "    for bird in range(N):\n",
    "        neighbors = (x-x[bird])**2+(y-y[bird])**2 < R**2 # find neighbours x_j within R\n",
    "        Ni=neighbors.shape[0]\n",
    "        \n",
    "        sumx= np.sum(vx[neighbours])\n",
    "        sumy= np.sum(vy[neighbours])\n",
    "        \n",
    "        vx_m[bird] = lambda_m*(sumx/Ni-vx[bird])\n",
    "        vy_m[bird] = lambda_m*(sumy/Ni-vy[bird])"
   ]
  },
  {
   "cell_type": "code",
   "execution_count": 11,
   "id": "3af05dcc",
   "metadata": {},
   "outputs": [],
   "source": [
    "def update_velocities(vx, vy, vx_c, vy_c, vx_na, vy_na, vx_oba, vy_oba, vx_m, vy_m):\n",
    "    vx_next = vx + vx_c + vx_na + vx_oba + vx_m \n",
    "    vy_next = vy + vy_c + vy_na + vy_oba + vy_m\n",
    "    \n",
    "    return vx_next, vy_next"
   ]
  },
  {
   "cell_type": "code",
   "execution_count": 12,
   "id": "474e0698",
   "metadata": {},
   "outputs": [],
   "source": [
    "def limit_speed(vx, vy, v_max):\n",
    "    \n",
    "    vx_next = min(1, v_max/np.sqrt(vx**2+vy**2))*vx\n",
    "    vy_next = min(1, v_max/np.sqrt(vx**2+vy**2))*vy\n",
    "    \n",
    "    return vx_next, vy_next"
   ]
  },
  {
   "cell_type": "code",
   "execution_count": null,
   "id": "aa82b08f",
   "metadata": {},
   "outputs": [],
   "source": [
    "import matplotlib.pyplot as plt\n",
    "\n",
    "# set up a figure\n",
    "fig, ax = plt.subplots(figsize = (10,10))\n",
    "\n",
    "# get the initial configuration\n",
    "x, y, vx, vy, theta = initialize_birds(N,L)\n",
    "\n",
    "# do an initial plot and set up the axes\n",
    "q = plt.quiver(x,y,vx,vy)\n",
    "ax.set(xlim=(0, L), ylim=(0, L))\n",
    "ax.set_aspect('equal')\n",
    "ax.get_xaxis().set_visible(False)\n",
    "ax.get_yaxis().set_visible(False)\n",
    "\n",
    "# do each step, updating the quiver and plotting the new one\n",
    "for iT in range(Nt):\n",
    "    x,y,vx,vy = step(x,y,vx,vy,theta,Rsq,eta,N,dt)\n",
    "    q = update_quiver(q,x,y,vx,vy)\n",
    "    clear_output(wait=True)\n",
    "    display(fig)"
   ]
  }
 ],
 "metadata": {
  "kernelspec": {
   "display_name": "Python 3 (ipykernel)",
   "language": "python",
   "name": "python3"
  },
  "language_info": {
   "codemirror_mode": {
    "name": "ipython",
    "version": 3
   },
   "file_extension": ".py",
   "mimetype": "text/x-python",
   "name": "python",
   "nbconvert_exporter": "python",
   "pygments_lexer": "ipython3",
   "version": "3.11.3"
  }
 },
 "nbformat": 4,
 "nbformat_minor": 5
}
