{
  "cells": [
    {
      "cell_type": "code",
      "execution_count": 162,
      "id": "50511818",
      "metadata": {
        "id": "50511818"
      },
      "outputs": [],
      "source": [
        "import matplotlib.pyplot as plt\n",
        "import numpy as np\n",
        "from IPython.display import display, clear_output"
      ]
    },
    {
      "cell_type": "code",
      "execution_count": 163,
      "id": "cad6ab5c",
      "metadata": {
        "id": "cad6ab5c"
      },
      "outputs": [],
      "source": [
        "v0           = 2.0      # velocity\n",
        "lambda_c = 0 #.05\n",
        "lambda_a= .3\n",
        "lambda_a_obstacle =  0 #0.7\n",
        "lambda_m = 0.5\n",
        "r_n = 3   # center of mass radius\n",
        "r_nc = .3   # radius for neighbor collisions\n",
        "r_o = 10\n",
        "eta          = 0.5      # random fluctuation in angle (in radians)\n",
        "W             = 15       # width of box\n",
        "H            = 10        #Height of box\n",
        "R            = 1        # interaction radius\n",
        "Rsq          = R**2     # square of the interaction radius\n",
        "dt           = 0.2      # time step\n",
        "Nt           = 80       # number of time steps\n",
        "N            = 300     # number of birds\n",
        "M = 10 # no of obstacles"
      ]
    },
    {
      "cell_type": "code",
      "execution_count": 164,
      "id": "39755206",
      "metadata": {
        "id": "39755206"
      },
      "outputs": [],
      "source": [
        "def initialize_birds(N,W, H):\n",
        "    '''\n",
        "    Set initial positions, direction, and velocities\n",
        "    '''\n",
        "    # bird positions\n",
        "    x = np.random.rand(N)*W\n",
        "    y = np.random.rand(N)*H\n",
        "\n",
        "    # bird velocities\n",
        "    theta = 2 * np.pi * np.random.rand(N)\n",
        "    vx = v0 * np.cos(theta)\n",
        "    vy = v0 * np.sin(theta)\n",
        "\n",
        "    return x, y, vx, vy, theta"
      ]
    },
    {
      "cell_type": "code",
      "execution_count": 165,
      "id": "8f7a72f6",
      "metadata": {
        "id": "8f7a72f6"
      },
      "outputs": [],
      "source": [
        "def initialize_obstacles(M,W, H):\n",
        "    x = np.random.rand(M)*W\n",
        "    y = np.random.rand(M)*H\n",
        "\n",
        "    return x,y"
      ]
    },
    {
      "cell_type": "code",
      "execution_count": 166,
      "id": "b6c991ca",
      "metadata": {
        "id": "b6c991ca"
      },
      "outputs": [],
      "source": [
        "x_o, y_o = initialize_obstacles(M,W,H)"
      ]
    },
    {
      "cell_type": "code",
      "execution_count": 167,
      "id": "676347c1",
      "metadata": {
        "id": "676347c1"
      },
      "outputs": [],
      "source": [
        "def dead_bird(x,y,x_o, y_o):\n",
        "\n",
        "    k = 0\n",
        "    for bird in range(N):\n",
        "        croppers = (x_o-x[bird])**2+(y_o-y[bird])**2 < 0.01\n",
        "        k += sum(croppers)\n",
        "\n",
        "    return k"
      ]
    },
    {
      "cell_type": "code",
      "execution_count": 168,
      "id": "f8c1152f",
      "metadata": {
        "id": "f8c1152f"
      },
      "outputs": [],
      "source": [
        "def apply_boundary_conditions(x,y,W, H):\n",
        "    '''\n",
        "    Apply periodic boundary conditions\n",
        "    '''\n",
        "    x = x % W\n",
        "    y = y % H\n",
        "    return x, y"
      ]
    },
    {
      "cell_type": "code",
      "execution_count": 169,
      "id": "a200ec2e",
      "metadata": {
        "id": "a200ec2e"
      },
      "outputs": [],
      "source": [
        "def update_positions(x, y,xv, vy, dt, W, H):\n",
        "    '''\n",
        "    Update the positions moving dt in the direction of the velocity\n",
        "    and applying the boundary conditions\n",
        "    '''\n",
        "\n",
        "    # update positions\n",
        "    x += vx*dt\n",
        "    y += vy*dt\n",
        "\n",
        "    # apply boundary conditions\n",
        "    x, y = apply_boundary_conditions(x,y,W,H)\n",
        "    return x, y"
      ]
    },
    {
      "cell_type": "code",
      "execution_count": 170,
      "id": "f5689c45",
      "metadata": {
        "id": "f5689c45"
      },
      "outputs": [],
      "source": [
        "def centre_of_mass(x, x_boundary, y, y_boundary, lambda_c, R):\n",
        "    # define neighbours birds can see\n",
        "\n",
        "    vx_c=np.zeros_like(x)\n",
        "    vy_c=np.zeros_like(y)\n",
        "\n",
        "    for bird in range(N):\n",
        "        neighbors = ((x-x[bird])**2+(y-y[bird])**2) < R**2 # find neighbours x_j within R\n",
        "        boundary_neighbors = ((x_boundary - x[bird])**2 + (y_boundary-y[bird])**2) < R**2\n",
        "\n",
        "\n",
        "        Ni = sum(neighbors) + sum(boundary_neighbors)\n",
        "        sumx= np.sum(x[neighbors]) + np.sum(x[boundary_neighbors])\n",
        "        sumy= np.sum(y[neighbors]) + np.sum(y[boundary_neighbors])\n",
        "\n",
        "        vx_c[bird] = lambda_c*(sumx/Ni-x[bird])\n",
        "        vy_c[bird] = lambda_c*(sumy/Ni-y[bird])\n",
        "\n",
        "    return vx_c, vy_c"
      ]
    },
    {
      "cell_type": "code",
      "execution_count": 171,
      "id": "c684596e",
      "metadata": {
        "id": "c684596e"
      },
      "outputs": [],
      "source": [
        "def avoid_collisions_birds(x, x_boundary, y, y_boundary, lambda_a, r_nc):\n",
        "    # define birds within minimum distance\n",
        "\n",
        "    vx_a=np.zeros_like(x)\n",
        "    vy_a=np.zeros_like(x)\n",
        "\n",
        "    for bird in range(N):\n",
        "        neighbors = ((x-x[bird])**2+(y-y[bird])**2) < r_nc**2 # find neighbours x_j within r_n\n",
        "        boundary_neighbors = ((x_boundary - x[bird])**2 + (y_boundary - y[bird])**2) <  r_nc**2\n",
        "\n",
        "\n",
        "        vx_a[bird] = lambda_a*(np.sum(x[bird]-x[neighbors]) + np.sum(x[bird] - x_boundary[boundary_neighbors])) # -np.sum(x[boundary_neighbors]))\n",
        "        vy_a[bird] = lambda_a*(np.sum(y[bird]-y[neighbors]) + np.sum(y[bird] - y_boundary[boundary_neighbors]))\n",
        "\n",
        "    return vx_a, vy_a"
      ]
    },
    {
      "cell_type": "code",
      "execution_count": 172,
      "id": "13044c99",
      "metadata": {
        "id": "13044c99"
      },
      "outputs": [],
      "source": [
        "def avoid_collisions_obstacle(x, y, x_o, y_o, lambda_a_obstacle, r_o):\n",
        "\n",
        "    vx_a=np.zeros_like(x)\n",
        "    vy_a=np.zeros_like(x)\n",
        "\n",
        "    for birds in range(N):\n",
        "        collisions = ((x_o-x[birds])**2+(y_o-y[birds])**2) < r_o**2 # find obstacles x_j within r_o\n",
        "\n",
        "\n",
        "        vx_a[birds] = lambda_a_obstacle*(np.sum(x[birds]-x_o[collisions])) # -np.sum(x_o[boundary_collision]))\n",
        "        vy_a[birds] = lambda_a_obstacle*(np.sum(y[birds]-y_o[collisions])) # -np.sum(y_o[boundary_collision]))\n",
        "\n",
        "\n",
        "    return vx_a, vy_a"
      ]
    },
    {
      "cell_type": "code",
      "execution_count": 173,
      "id": "0f362e89",
      "metadata": {
        "id": "0f362e89"
      },
      "outputs": [],
      "source": [
        "def match_velocities(x, x_boundary, y, y_boundary, vx, vy, lambda_m, R):\n",
        "\n",
        "    vx_m=np.zeros_like(x)\n",
        "    vy_m=np.zeros_like(x)\n",
        "\n",
        "    for bird in range(N):\n",
        "        neighbors = (x-x[bird])**2+(y-y[bird])**2 < R**2 # find neighbours x_j within R\n",
        "        boundary_neighbors = (x_boundary - x[bird])**2 + (y_boundary - y[bird])**2 < R**2\n",
        "\n",
        "\n",
        "        Ni = sum(neighbors) + sum(boundary_neighbors)  # + sum(boundary_neighbors)\n",
        "\n",
        "        sumx= np.sum(vx[neighbors]) + np.sum(vx[boundary_neighbors])\n",
        "        sumy= np.sum(vy[neighbors]) + np.sum(vy[boundary_neighbors])\n",
        "\n",
        "        vx_m[bird] = lambda_m*(sumx / Ni - vx[bird])\n",
        "        vy_m[bird] = lambda_m*(sumy / Ni - vy[bird])\n",
        "\n",
        "    return vx_m, vy_m"
      ]
    },
    {
      "cell_type": "code",
      "execution_count": 174,
      "id": "7b7b21f4",
      "metadata": {
        "id": "7b7b21f4"
      },
      "outputs": [],
      "source": [
        "def update_velocities(vx,vy,x,y):\n",
        "    '''\n",
        "    Update the velocities given theta\n",
        "    '''\n",
        "\n",
        "    x_boundary = x.copy()\n",
        "    x_boundary[x < W / 2] =  x[x < W / 2] + W\n",
        "    x_boundary[x >= W / 2] = x[x >= W / 2] - W\n",
        "\n",
        "    y_boundary = y.copy()\n",
        "    y_boundary[y < H / 2] = y[y < H / 2] + H\n",
        "    y_boundary[y >= H / 2] = y[y >= H / 2] - H\n",
        "\n",
        "    vx_c, vy_c = centre_of_mass(x, x_boundary, y, y_boundary, lambda_c, R)\n",
        "    vx_m, vy_m = match_velocities(x, x_boundary, y, y_boundary, vx, vy, lambda_m, R)\n",
        "    vx_ab, vy_ab = avoid_collisions_birds(x, x_boundary, y, y_boundary, lambda_a, r_nc)\n",
        "\n",
        "    vx_ao, vy_ao = avoid_collisions_obstacle(x,y,x_o, y_o, lambda_a_obstacle, r_o)\n",
        "\n",
        "    vx = vx + vx_c + vx_m + vx_ab + vx_ao\n",
        "    vy = vy + vy_c + vy_m + vy_ab + vy_ao\n",
        "\n",
        "    return vx, vy"
      ]
    },
    {
      "cell_type": "code",
      "execution_count": 175,
      "id": "a0f03a82",
      "metadata": {
        "id": "a0f03a82"
      },
      "outputs": [],
      "source": [
        "def limit_speed(vx, vy, v0):\n",
        "\n",
        "    vx, vy = update_velocities(vx, vy, x, y)\n",
        "\n",
        "    vx_next = np.zeros_like(x)\n",
        "    vy_next = np.zeros_like(x)\n",
        "\n",
        "    for i in range(N):\n",
        "        vx_next[i] = min(1, v0/np.sqrt(vx[i]**2+vy[i]**2))*vx[i]\n",
        "        vy_next[i] = min(1, v0/np.sqrt(vx[i]**2+vy[i]**2))*vy[i]\n",
        "\n",
        "    return vx_next, vy_next"
      ]
    },
    {
      "cell_type": "code",
      "execution_count": 176,
      "id": "476b13ff",
      "metadata": {
        "id": "476b13ff"
      },
      "outputs": [],
      "source": [
        "def step(x,y,vx,vy,dt):\n",
        "    '''\n",
        "    Compute a step in the dynamics:\n",
        "    - update the positions\n",
        "    - compute the new velocities\n",
        "    '''\n",
        "\n",
        "\n",
        "    x,y = update_positions(x, y, vx, vy, dt, W, H)\n",
        "    vx,vy = limit_speed(vx,vy,v0)\n",
        "    return x, y, vx, vy"
      ]
    },
    {
      "cell_type": "code",
      "execution_count": 177,
      "id": "6d5f9ecd",
      "metadata": {
        "id": "6d5f9ecd"
      },
      "outputs": [],
      "source": [
        "def update_quiver(q,x,y,vx,vy):\n",
        "    '''\n",
        "    Update a quiver with new position and velocity information\n",
        "    This is only used for plotting\n",
        "    '''\n",
        "    q.set_offsets(np.column_stack([x,y]))\n",
        "    q.set_UVC(vx,vy)\n",
        "    return q"
      ]
    },
    {
      "cell_type": "code",
      "execution_count": 178,
      "id": "f2728470",
      "metadata": {
        "colab": {
          "base_uri": "https://localhost:8080/",
          "height": 1000
        },
        "id": "f2728470",
        "outputId": "f404972a-6586-4396-f414-dc680a403a60"
      },
      "outputs": [
        {
          "output_type": "display_data",
          "data": {
            "text/plain": [
              "<Figure size 1000x1000 with 1 Axes>"
            ],
            "image/png": "[encoded data removed]"
          },
          "metadata": {}
        },
        {
          "output_type": "display_data",
          "data": {
            "text/plain": [
              "<Figure size 1000x1000 with 1 Axes>"
            ],
            "image/png": "[encoded data removed]"
          },
          "metadata": {}
        }
      ],
      "source": [
        "\n",
        "# set up a figure\n",
        "fig, ax = plt.subplots(figsize = (10,10))\n",
        "\n",
        "# get the initial configuration\n",
        "x, y, vx, vy, theta = initialize_birds(N,W,H)\n",
        "\n",
        "# do an initial plot and set up the axes\n",
        "q = plt.quiver(x,y,vx,vy)\n",
        "ax.set(xlim=(0, W), ylim=(0, H))\n",
        "ax.set_aspect('equal')\n",
        "ax.get_xaxis().set_visible(False)\n",
        "ax.get_yaxis().set_visible(False)\n",
        "\n",
        "k=0\n",
        "plt.scatter(x_o, y_o)\n",
        "\n",
        "# do each step, updating the quiver and plotting the new one\n",
        "for iT in range(Nt):\n",
        "    #k += dead_bird(x,y,x_o,y_o)\n",
        "    x,y,vx,vy = step(x,y,vx,vy,dt)\n",
        "    q = update_quiver(q,x,y,vx,vy)\n",
        "    clear_output(wait=True)\n",
        "    display(fig)\n",
        "    plt.savefig('flock.pdf')"
      ]
    },
    {
      "cell_type": "code",
      "execution_count": 179,
      "id": "14dd6959",
      "metadata": {
        "id": "14dd6959",
        "colab": {
          "base_uri": "https://localhost:8080/"
        },
        "outputId": "ccdf7276-8e8a-405e-8e8c-4dc802e4ab1f"
      },
      "outputs": [
        {
          "output_type": "stream",
          "name": "stdout",
          "text": [
            "The number of birds who died (got too close to the obstacles) is 0\n"
          ]
        }
      ],
      "source": [
        "print('The number of birds who died (got too close to the obstacles) is '+str(k))"
      ]
    }
  ],
  "metadata": {
    "kernelspec": {
      "display_name": "Python 3 (ipykernel)",
      "language": "python",
      "name": "python3"
    },
    "language_info": {
      "codemirror_mode": {
        "name": "ipython",
        "version": 3
      },
      "file_extension": ".py",
      "mimetype": "text/x-python",
      "name": "python",
      "nbconvert_exporter": "python",
      "pygments_lexer": "ipython3",
      "version": "3.11.3"
    },
    "colab": {
      "provenance": []
    }
  },
  "nbformat": 4,
  "nbformat_minor": 5
}